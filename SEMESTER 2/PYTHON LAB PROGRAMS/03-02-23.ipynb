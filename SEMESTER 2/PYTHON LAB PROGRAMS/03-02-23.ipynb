{
 "cells": [
  {
   "attachments": {},
   "cell_type": "markdown",
   "metadata": {},
   "source": [
    "<h4><b>FINDING AND PRINTING THE POSITION OF A SUBSTRING</b></h4>"
   ]
  },
  {
   "cell_type": "code",
   "execution_count": null,
   "metadata": {},
   "outputs": [],
   "source": [
    "string = input(\"ENTER A STRING:\")\n",
    "substring = input(\"ENTER SUBSTRING:\")\n",
    "start = 0\n",
    "x = string.find(substring,start)\n",
    "while(x != -1):\n",
    "    print(x)\n",
    "    start = x + len(substring)\n",
    "    x = string.find(substring,start)"
   ]
  },
  {
   "attachments": {},
   "cell_type": "markdown",
   "metadata": {},
   "source": [
    "<h4><b>USE OF split() FUNCTION</b></h4>\n",
    "- SYNTAX IS split(Separator,MaxSplit)\n"
   ]
  },
  {
   "cell_type": "code",
   "execution_count": null,
   "metadata": {},
   "outputs": [],
   "source": [
    "S1 =\"I Am Learning Python\"\n",
    "S2 =\"03/02/2023\"\n",
    "S3 =\"Amit,Aniket,Sachi,Ankit\"\n",
    "l1 = S1.split()      #SPLITING WITHOUT CONDITION\n",
    "l2 = S1.split(' ',2) #SPLITING WITH ' ' AS SEPARATOR AND 2 IS THE MAXSPLIT\n",
    "l3 = S2.split('/')   #SPLITING WITH '/' AS SEPARATOR\n",
    "l4 = S3.split(',')   #SPLITING WITH ',' AS SEPARATOR\n",
    "print(l1)\n",
    "print(l2)\n",
    "print(l3)\n",
    "print(l4)"
   ]
  },
  {
   "cell_type": "markdown",
   "metadata": {},
   "source": []
  },
  {
   "cell_type": "code",
   "execution_count": null,
   "metadata": {},
   "outputs": [],
   "source": [
    "Name = input(\"ENTER NAME:\")\n",
    "Name = Name.title()\n",
    "shortName = \"\"\n",
    "l = Name.split()\n",
    "length = len(l)\n",
    "for i in range(length - 1):\n",
    "    ShortName = ShortName + l[i][0] + \".\"\n",
    "ShortName += l[length-1]\n",
    "print(ShortName)"
   ]
  },
  {
   "cell_type": "markdown",
   "metadata": {},
   "source": []
  },
  {
   "cell_type": "code",
   "execution_count": null,
   "metadata": {},
   "outputs": [],
   "source": []
  },
  {
   "cell_type": "markdown",
   "metadata": {},
   "source": []
  },
  {
   "cell_type": "code",
   "execution_count": 13,
   "metadata": {},
   "outputs": [
    {
     "name": "stdout",
     "output_type": "stream",
     "text": [
      "abcdef\n"
     ]
    }
   ],
   "source": [
    "string = input(\"ENTER A STRING:\")\n",
    "result=\"\"\n",
    "a = sorted(string)\n",
    "for i in range(len(a)):\n",
    "    result+=a[i]        #WE CAN ALSO USE join(a) INSTEAD OF LOOP\n",
    "print(result)"
   ]
  }
 ],
 "metadata": {
  "kernelspec": {
   "display_name": "Python 3",
   "language": "python",
   "name": "python3"
  },
  "language_info": {
   "codemirror_mode": {
    "name": "ipython",
    "version": 3
   },
   "file_extension": ".py",
   "mimetype": "text/x-python",
   "name": "python",
   "nbconvert_exporter": "python",
   "pygments_lexer": "ipython3",
   "version": "3.11.1"
  },
  "orig_nbformat": 4,
  "vscode": {
   "interpreter": {
    "hash": "fa8c03ba80d44c0c6168b23de601e19ab58b88b7d801a64347cddd603cbc60e0"
   }
  }
 },
 "nbformat": 4,
 "nbformat_minor": 2
}
