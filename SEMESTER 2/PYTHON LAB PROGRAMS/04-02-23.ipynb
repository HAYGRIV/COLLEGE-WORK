{
 "cells": [
  {
   "attachments": {},
   "cell_type": "markdown",
   "metadata": {},
   "source": [
    "<h4><b>REVERSE A GIVEN STRING</b></h4>"
   ]
  },
  {
   "cell_type": "code",
   "execution_count": null,
   "metadata": {},
   "outputs": [],
   "source": [
    "a = input(\"ENTER A STRING:\")\n",
    "b = a[::-1]\n",
    "\n",
    "print(b)"
   ]
  },
  {
   "attachments": {},
   "cell_type": "markdown",
   "metadata": {},
   "source": [
    "<h4><b>REVERSE EACH WORD OF STRING WITHOUT CHANGING POSITION</b></h4>"
   ]
  },
  {
   "cell_type": "code",
   "execution_count": null,
   "metadata": {},
   "outputs": [],
   "source": [
    "a = \"HELLO HOW ARE YOU ?\"\n",
    "b = \"\"\n",
    "a = a.split()\n",
    "for i in range(len(a)):\n",
    "    b += a[i][::-1] + \" \"\n",
    "print(b)"
   ]
  },
  {
   "attachments": {},
   "cell_type": "markdown",
   "metadata": {},
   "source": [
    "<H4><B>SORTING AND REVERSING A GIVEN STRING</B></H4>"
   ]
  },
  {
   "cell_type": "code",
   "execution_count": null,
   "metadata": {},
   "outputs": [],
   "source": [
    "a = input(\"ENTER A STRING:\")\n",
    "SortForm = ' '.join(sorted(a))\n",
    "ReverseForm = a[::-1]\n",
    "\n",
    "print(f\"SORTED:{SortForm},REVERSE:{ReverseForm}\")\n"
   ]
  },
  {
   "cell_type": "markdown",
   "metadata": {},
   "source": []
  },
  {
   "cell_type": "code",
   "execution_count": 59,
   "metadata": {},
   "outputs": [
    {
     "name": "stdout",
     "output_type": "stream",
     "text": [
      "d d j j n n s x\n",
      "j : 2\n",
      "\n",
      "d : 2\n",
      "\n",
      "s : 1\n",
      "\n",
      "j : 2\n",
      "\n",
      "d : 2\n",
      "\n",
      "n : 2\n",
      "\n",
      "n : 2\n",
      "\n",
      "x : 1\n",
      "\n"
     ]
    }
   ],
   "source": [
    "a = input(\"ENTER A STRING:\")\n",
    "b = \"\"\n",
    "sort = ' '.join(sorted(a))\n",
    "print(sort)\n",
    "for i in a:\n",
    "    if i not in b:\n",
    "        b += i\n",
    "for k in a:\n",
    "    c = a.count(k)\n",
    "    print(\"{:2}: {:}\\n\".format(k,c))"
   ]
  }
 ],
 "metadata": {
  "kernelspec": {
   "display_name": "Python 3",
   "language": "python",
   "name": "python3"
  },
  "language_info": {
   "codemirror_mode": {
    "name": "ipython",
    "version": 3
   },
   "file_extension": ".py",
   "mimetype": "text/x-python",
   "name": "python",
   "nbconvert_exporter": "python",
   "pygments_lexer": "ipython3",
   "version": "3.11.1"
  },
  "orig_nbformat": 4,
  "vscode": {
   "interpreter": {
    "hash": "fa8c03ba80d44c0c6168b23de601e19ab58b88b7d801a64347cddd603cbc60e0"
   }
  }
 },
 "nbformat": 4,
 "nbformat_minor": 2
}
