{
 "cells": [
  {
   "cell_type": "code",
   "execution_count": null,
   "metadata": {},
   "outputs": [],
   "source": [
    "print(\"Df\")"
   ]
  },
  {
   "cell_type": "code",
   "execution_count": 1,
   "metadata": {},
   "outputs": [
    {
     "name": "stdout",
     "output_type": "stream",
     "text": [
      "THE SUM OF 10 TERM SERIES IS 1.718282\n"
     ]
    }
   ],
   "source": [
    "#WRITE A PROGRAM TO PRINT THE GIVEN SERIES\n",
    "\n",
    "nnum=int(input(\"ENTER THE nth NUMBER:\"))\n",
    "\n",
    "sum=0\n",
    "for i in range(1,nnum+1):\n",
    "    fact=1\n",
    "    for j in range(i,0,-1):\n",
    "        fact=fact*j\n",
    "    sum=sum+(1/fact)\n",
    "print(\"THE SUM OF %d TERM SERIES IS %f\"%(nnum,sum))"
   ]
  },
  {
   "attachments": {},
   "cell_type": "markdown",
   "metadata": {},
   "source": [
    "string format\n"
   ]
  },
  {
   "cell_type": "code",
   "execution_count": null,
   "metadata": {},
   "outputs": [],
   "source": []
  }
 ],
 "metadata": {
  "kernelspec": {
   "display_name": "Python 3",
   "language": "python",
   "name": "python3"
  },
  "language_info": {
   "codemirror_mode": {
    "name": "ipython",
    "version": 3
   },
   "file_extension": ".py",
   "mimetype": "text/x-python",
   "name": "python",
   "nbconvert_exporter": "python",
   "pygments_lexer": "ipython3",
   "version": "3.11.1 (tags/v3.11.1:a7a450f, Dec  6 2022, 19:58:39) [MSC v.1934 64 bit (AMD64)]"
  },
  "orig_nbformat": 4,
  "vscode": {
   "interpreter": {
    "hash": "fa8c03ba80d44c0c6168b23de601e19ab58b88b7d801a64347cddd603cbc60e0"
   }
  }
 },
 "nbformat": 4,
 "nbformat_minor": 2
}
