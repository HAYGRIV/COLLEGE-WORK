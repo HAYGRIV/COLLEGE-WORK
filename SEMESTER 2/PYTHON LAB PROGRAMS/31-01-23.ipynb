{
 "cells": [
  {
   "attachments": {},
   "cell_type": "markdown",
   "metadata": {},
   "source": [
    "<h4><b>STRING FORMATTING</b></h4>\n",
    "-% OPERATOR<BR>\n",
    "-format() FUNCTION<BR>\n",
    "-f-STRING<BR>\n",
    "-STRING TEMPLATE CLASS"
   ]
  },
  {
   "attachments": {},
   "cell_type": "markdown",
   "metadata": {},
   "source": [
    "<H5><U>USE OF % OPERATOR</U></H5>\n",
    "-%d = INTEGER<BR>\n",
    "-%f = FLOATING POINT<BR>\n",
    "-%s = STRING<BR>\n",
    "-%b = BOOLEAN<BR>\n",
    "-%o = OCTAL<BR>\n",
    "-%x = HEXADECIMAL<BR>\n",
    "-%e = EXPONENTIAL"
   ]
  },
  {
   "cell_type": "code",
   "execution_count": null,
   "metadata": {},
   "outputs": [],
   "source": [
    "a = int(input(\"ENTER FIRST NUMBER:\"))\n",
    "b = int(input(\"ENTER SECOND NUMBER:\"))\n",
    "sum = a + b\n",
    "print(\"THE SUM OF %d AND %d IS %d\"%(a,b,sum))\n",
    "print(\"I AM LEARNING %s AND %s\"%('PYTHON','ENJOYING'))"
   ]
  },
  {
   "attachments": {},
   "cell_type": "markdown",
   "metadata": {},
   "source": [
    "\"%nd\"<BR>\n",
    "WHERE, n IS AN INTEGER WHICH DEFINES MINIMUM WIDTH TO BE USED ON SCREEN<BR>\n",
    "-IF n IS POSITIVE<BR>\n",
    "&nbsp;&nbsp;&nbsp;&nbsp;-SPACES ON THE LEFT<BR>\n",
    "-IF n IS NEGATIVE<BR>\n",
    "&nbsp;&nbsp;&nbsp;&nbsp;-SPACES ON THE RIGHT<BR>\n",
    "-IF n IS ZERO<BR>\n",
    "&nbsp;&nbsp;&nbsp;&nbsp;-SPACES ARE FILLED WITH ZERO<BR>"
   ]
  },
  {
   "cell_type": "code",
   "execution_count": null,
   "metadata": {},
   "outputs": [],
   "source": [
    "print(\"THE VALUE IS %5d\"%25)\n",
    "print(\"THE VALUE IS %+5d\"%25)\n",
    "print(\"THE VALUE IS %+5d\"%-25)\n",
    "print(\"THE VALUE IS %-5d\"%25)\n",
    "print(\"THE VALUE IS %-5d DONE\"%25)"
   ]
  },
  {
   "attachments": {},
   "cell_type": "markdown",
   "metadata": {},
   "source": [
    "\"%a.bf\"<br>\n",
    "WHERE,a IS MINIMUM WIDTH<BR>\n",
    "AND b IS NUMBER OF DIGITS AFTER FACTIONAL POINTER"
   ]
  },
  {
   "cell_type": "code",
   "execution_count": null,
   "metadata": {},
   "outputs": [],
   "source": [
    "x = 2/3\n",
    "print(\"THE VALUE IS %f\"%x)\n",
    "print(\"THE VALUE IS %5.2f\"%x)\n",
    "print(\"THE VALUE IS %10.3f\"%x)"
   ]
  },
  {
   "attachments": {},
   "cell_type": "markdown",
   "metadata": {},
   "source": [
    "\"%ns\"<BR>\n",
    "WHERE, n IS THE MINIMUM WIDTH OF STRING"
   ]
  },
  {
   "cell_type": "code",
   "execution_count": null,
   "metadata": {},
   "outputs": [],
   "source": [
    "print(\"THE LANGUAGE IS %s\"%'PYTHON')\n",
    "print(\"THE LANGUAGE IS %10.3s\"%'PYTHON')"
   ]
  },
  {
   "attachments": {},
   "cell_type": "markdown",
   "metadata": {},
   "source": [
    "<H5><U>USE OF format() METHOD</U></H5>\n",
    "-{} ARE CALLED PLACEHOLDER<BR>"
   ]
  },
  {
   "cell_type": "code",
   "execution_count": null,
   "metadata": {},
   "outputs": [],
   "source": [
    "syntax = \"A STRING IS GIVEN {} AND ANOTHER BY {}\".format('XYZ','ABC')\n",
    "print(\"THE SUM OF {} AND {} IS {}\".format(a,b,sum))\n",
    "\n",
    "prog = \"JAVA\"\n",
    "print(\"WE ARE DEALING WITH {}.{} IS A GOOD PROGRAMMING LANGUAGE.{}\".format(prog,prog,prog))"
   ]
  },
  {
   "attachments": {},
   "cell_type": "markdown",
   "metadata": {},
   "source": [
    "{i} = INDEX CAN BE PROVIDED"
   ]
  },
  {
   "cell_type": "code",
   "execution_count": null,
   "metadata": {},
   "outputs": [],
   "source": [
    "print(\"WE ARE DEALING WITH {0}.{0} IS A GOOD PROGRAMMING LANGUAGE.{0}\".format(prog))\n",
    "print(\"THE SUM OF {0} AND {1} IS {2}\".format(a,b,sum))"
   ]
  },
  {
   "attachments": {},
   "cell_type": "markdown",
   "metadata": {},
   "source": [
    "{keyword} FOR OBJECTS"
   ]
  },
  {
   "cell_type": "code",
   "execution_count": null,
   "metadata": {},
   "outputs": [],
   "source": [
    "print(\"X:{X} AND Y:{Y}\".format(X=10,Y=\"XYZ\"))\n",
    "st1 = \"X:{X} AND Y:{Y}\".format(X=10,Y=\"XYZ\")\n",
    "print(st1)"
   ]
  },
  {
   "attachments": {},
   "cell_type": "markdown",
   "metadata": {},
   "source": [
    "{index/keyword:minimum width}"
   ]
  },
  {
   "cell_type": "code",
   "execution_count": null,
   "metadata": {},
   "outputs": [],
   "source": [
    "print(\"THE VALUE IS : {0:5.3}\".format(2/3))\n",
    "print(\"THE VALUE IS : {0:10}\".format(25))\n",
    "print(\"THE VALUE IS : {0:20}\".format('PYTHON'))"
   ]
  },
  {
   "attachments": {},
   "cell_type": "markdown",
   "metadata": {},
   "source": [
    "<H5><U>USE OF f-STRING</U></H5>\n",
    "-syntax = f\"THIS IS {name} STRING\"<BR>\n",
    "-{VALUE:WIDTH} = MINIMUM WIDTH FOR INTEGER/STRING<BR>\n",
    "-{VALUE:(WIDTH).(PRECISION)} = FLOATING POINT"
   ]
  },
  {
   "cell_type": "code",
   "execution_count": null,
   "metadata": {},
   "outputs": [],
   "source": [
    "X=500\n",
    "print(f\"THE VALUE IS {X}\")\n",
    "print(f\"THE VALUE IS : {X:20}\")\n",
    "print(f\"THE VALUE IS : {2/3:5.2}\")"
   ]
  },
  {
   "attachments": {},
   "cell_type": "markdown",
   "metadata": {},
   "source": [
    "-ALIGNMENT"
   ]
  },
  {
   "cell_type": "code",
   "execution_count": null,
   "metadata": {},
   "outputs": [],
   "source": [
    "print(f\"{'MY MESSAGE':<20}\") #LEFT ALIGNED\n",
    "print(f\"{'MY MESSAGE':>20}\") #RIGHT ALIGNED\n",
    "print(f\"{'MY MESSAGE':^20}\") #CENTER ALIGNED"
   ]
  },
  {
   "attachments": {},
   "cell_type": "markdown",
   "metadata": {},
   "source": [
    "<H4><B>WRITE A PROGRAM TO PRINT THE NUMBER AND ITS SQUARE AND CUBE IN A TABULAR FORM</B></H4>"
   ]
  },
  {
   "cell_type": "code",
   "execution_count": null,
   "metadata": {},
   "outputs": [],
   "source": [
    "num = int(input(\"Enter a number: \"))\n",
    "print(\"{:<5} {:<5} {:<5}\".format(\"Number\", \"Square\", \"Cube\"))\n",
    "for i in range(1, num+1):\n",
    "    print(\"{:<8} {:<5} {:<5}\".format(i, i**2, i**3))"
   ]
  },
  {
   "attachments": {},
   "cell_type": "markdown",
   "metadata": {},
   "source": [
    "<h4><b>STRING</b></h4>\n",
    "-COLLECTION OF CHARACTERS<br>\n",
    "-IT IS IMMUTABLE"
   ]
  },
  {
   "cell_type": "code",
   "execution_count": null,
   "metadata": {},
   "outputs": [],
   "source": [
    "c=\"PYTHON\"\n",
    "for i in c:\n",
    "    print(i)"
   ]
  },
  {
   "cell_type": "code",
   "execution_count": null,
   "metadata": {},
   "outputs": [],
   "source": [
    "c=\"PYTHON\"\n",
    "i=0\n",
    "while(i<len(c)):\n",
    "    print(c[i])\n",
    "    i=i+1"
   ]
  },
  {
   "cell_type": "code",
   "execution_count": null,
   "metadata": {},
   "outputs": [],
   "source": [
    "c='PYHTON'\n",
    "c=c*50\n",
    "\n",
    "for i in range(50):\n",
    "    c=c+'a'\n",
    "    print(c)"
   ]
  },
  {
   "attachments": {},
   "cell_type": "markdown",
   "metadata": {},
   "source": [
    "<h4><b>SLICING</b></h4>\n",
    "-SYNTAX IS StringName[start:end]<br>\n",
    "-DEFAULT start VALUE IS ZERO<br>\n",
    "-WE GET COMPLETE STRING IF StringName[:] "
   ]
  },
  {
   "cell_type": "code",
   "execution_count": null,
   "metadata": {},
   "outputs": [],
   "source": [
    "c=\"HELLO\"\n",
    "\n",
    "print(c[0:3])"
   ]
  },
  {
   "cell_type": "code",
   "execution_count": null,
   "metadata": {},
   "outputs": [],
   "source": [
    "c=\"HELLO WORLD\"\n",
    "\n",
    "print(c[1:5])\n",
    "print(c[:5])\n",
    "print(c[1:])\n",
    "print(c[-1:-5])\n",
    "print(c[1:5:2])\n",
    "print(c[::-1])"
   ]
  },
  {
   "attachments": {},
   "cell_type": "markdown",
   "metadata": {},
   "source": [
    "<h5>CHECKING WHETHER THE GIVEN NUMBER IS PALINDROME OR NOT</h5>"
   ]
  },
  {
   "cell_type": "code",
   "execution_count": null,
   "metadata": {},
   "outputs": [],
   "source": [
    "#TAKING INPUT OF A NUMBER\n",
    "num=input(\"ENTER A NUMBER:\")\n",
    "\n",
    "#CHECKING WHETHER NUMBER IS SAME WHEN REVERSED\n",
    "if(num[:]==num[::-1]):\n",
    "    print(\"PALINDROME...\")\n",
    "else:\n",
    "    print(\"NOT PALINDROME...\")"
   ]
  },
  {
   "cell_type": "code",
   "execution_count": null,
   "metadata": {},
   "outputs": [],
   "source": [
    "c=\"SIMPLE\"\n",
    "\n",
    "c[1]='a'\n",
    "print(c)"
   ]
  },
  {
   "cell_type": "code",
   "execution_count": null,
   "metadata": {},
   "outputs": [],
   "source": [
    "c=\"HELLO\"\n",
    "\n",
    "c.find('F')"
   ]
  },
  {
   "cell_type": "code",
   "execution_count": null,
   "metadata": {},
   "outputs": [],
   "source": [
    "c=\"abcaefadea\"\n",
    "\n",
    "for i in range(len(c)):\n",
    "    index=c.find('a')\n",
    "    m=index\n",
    "    c=c[index+1:]\n",
    "    print(c)\n"
   ]
  }
 ],
 "metadata": {
  "kernelspec": {
   "display_name": "Python 3",
   "language": "python",
   "name": "python3"
  },
  "language_info": {
   "codemirror_mode": {
    "name": "ipython",
    "version": 3
   },
   "file_extension": ".py",
   "mimetype": "text/x-python",
   "name": "python",
   "nbconvert_exporter": "python",
   "pygments_lexer": "ipython3",
   "version": "3.11.1"
  },
  "orig_nbformat": 4,
  "vscode": {
   "interpreter": {
    "hash": "fa8c03ba80d44c0c6168b23de601e19ab58b88b7d801a64347cddd603cbc60e0"
   }
  }
 },
 "nbformat": 4,
 "nbformat_minor": 2
}
