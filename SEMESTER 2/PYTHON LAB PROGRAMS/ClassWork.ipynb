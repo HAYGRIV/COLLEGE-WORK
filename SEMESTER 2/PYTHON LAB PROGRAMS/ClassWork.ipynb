{
 "cells": [
  {
   "attachments": {},
   "cell_type": "markdown",
   "metadata": {},
   "source": [
    "<h4><b>PROGRAM LARGEST AMONG THREE NUMBERS USING SHORTHAND IF ELSE</b></h4>"
   ]
  },
  {
   "cell_type": "code",
   "execution_count": null,
   "metadata": {},
   "outputs": [],
   "source": [
    "x=10\n",
    "y=5\n",
    "z=3\n",
    "\n",
    "#MAX=(x if x>z else z) if x>y else (y if y>z else z)\n",
    "#print(MAX)\n",
    "\n",
    "m= \"x IS LARGEST\" if (x>y and y>z) else (\"y IS LARGEST\" if y>x else \"z IS LARGEST\")\n",
    "print(m)\n"
   ]
  },
  {
   "attachments": {},
   "cell_type": "markdown",
   "metadata": {},
   "source": [
    "<h4><b>CHECKING WHETHER GIVEN NUMBER IS POSITIVE, NEGATIVE OR ZERO USING SHORTHAND IF ELSE</b></h4>"
   ]
  },
  {
   "cell_type": "code",
   "execution_count": null,
   "metadata": {},
   "outputs": [],
   "source": [
    "x=int(input(\"ENTER A NUMBER:\"))\n",
    "\n",
    "a= \"ZERO\" if x==0 else (\"+VE\" if x>0 else \"-VE\")\n",
    "print(a)"
   ]
  },
  {
   "attachments": {},
   "cell_type": "markdown",
   "metadata": {},
   "source": [
    "<H4><B>CHECKING WHETHER THE GIVEN ALPHABET IS VOWEL OR CONSONANT USING SHORTHAND IF ELSE</B></H4>"
   ]
  },
  {
   "cell_type": "code",
   "execution_count": null,
   "metadata": {},
   "outputs": [],
   "source": [
    "x=str(input(\"ENTER AN ALPHABET:\"))\n",
    "\n",
    "a=\"VOWEL\" if x in \"aeiou\" else \"CONSONANT\"\n",
    "print(a)"
   ]
  },
  {
   "attachments": {},
   "cell_type": "markdown",
   "metadata": {},
   "source": [
    "<H4><B>THE WORKING OF WHILE LOOP</B></H4>"
   ]
  },
  {
   "cell_type": "code",
   "execution_count": null,
   "metadata": {},
   "outputs": [],
   "source": [
    "x=1\n",
    "while(x<=10):\n",
    "    print(x)\n",
    "    x=x+1 #if written x=x+1 without indentation then ans will be infinite loop"
   ]
  },
  {
   "attachments": {},
   "cell_type": "markdown",
   "metadata": {},
   "source": [
    "<H4><B>CHECKING WHETHER THE GIVEN NUMBER IS PRIME OR NOT</B></H4>"
   ]
  },
  {
   "cell_type": "code",
   "execution_count": null,
   "metadata": {},
   "outputs": [],
   "source": [
    "num=int(input(\"ENTER A NUMBER:\"))\n",
    "i=2\n",
    "while(i*i<=num):\n",
    "    if(num%i==0):\n",
    "        print(\"NOT A PRIME NUMBER...\")\n",
    "        break\n",
    "    i= i+1\n",
    "else:    \n",
    "    print(\"PRIME NUMBER..\")"
   ]
  },
  {
   "cell_type": "code",
   "execution_count": null,
   "metadata": {},
   "outputs": [],
   "source": [
    "i=30\n",
    "while(i<=10):\n",
    "    if(i%3==0):\n",
    "        break\n",
    "    i=i+1\n",
    "else:\n",
    "    print(\"DONE!..\")"
   ]
  },
  {
   "attachments": {},
   "cell_type": "markdown",
   "metadata": {},
   "source": [
    "<H4><B>TO CHECK PRIME NUMBERS AND TO PRINT IN A GIVEN LIMIT</B></H4>"
   ]
  },
  {
   "cell_type": "code",
   "execution_count": null,
   "metadata": {},
   "outputs": [],
   "source": [
    "#TO CHECK PRIME NUMBERS AND PRINTING IN A GIVEN LIMIT\n",
    "start=int(input(\"ENTER THE LOWER LIMIT:\"))\n",
    "end=int(input(\"ENTER THE UPPER LIMIT:\"))\n",
    "\n",
    "while(start<=end):\n",
    "    h=2\n",
    "    while(h<start):\n",
    "        if(start%h==0):\n",
    "            break\n",
    "        h=h+1\n",
    "    else:\n",
    "        print(start,end='\\t')\n",
    "    start=start+1"
   ]
  },
  {
   "attachments": {},
   "cell_type": "markdown",
   "metadata": {},
   "source": [
    "<H4><B>PROGRAM FOR PRINTING WHOLE WORD WITH EACH ALPHABET</B></H4>"
   ]
  },
  {
   "cell_type": "code",
   "execution_count": null,
   "metadata": {},
   "outputs": [],
   "source": [
    "for i in \"PYTHON\":\n",
    "    print(i)"
   ]
  },
  {
   "attachments": {},
   "cell_type": "markdown",
   "metadata": {},
   "source": [
    "<H4><B>USE OF RANGE FUNCTION</B></H4>"
   ]
  },
  {
   "cell_type": "code",
   "execution_count": null,
   "metadata": {},
   "outputs": [],
   "source": [
    "for i in range(10,0,-2):\n",
    "    pass\n",
    "for i in range(1,10+1,2):\n",
    "    pass\n",
    "for i in range(2,10,2):\n",
    "    pass\n",
    "for i in range(1,10,1):\n",
    "    pass\n",
    "for i in range(10):\n",
    "    print(i)"
   ]
  },
  {
   "attachments": {},
   "cell_type": "markdown",
   "metadata": {},
   "source": [
    "<H4><B>PROGRAM TO PRINT GIVEN SERIES</B></H4>"
   ]
  },
  {
   "cell_type": "code",
   "execution_count": null,
   "metadata": {},
   "outputs": [],
   "source": [
    "#WRITE A PROGRAM TO PRINT THE GIVEN SERIES\n",
    "\n",
    "nnum=int(input(\"ENTER THE nth NUMBER:\"))\n",
    "\n",
    "sum=0\n",
    "for i in range(1,nnum+1):\n",
    "    fact=1\n",
    "    for j in range(i,0,-1):\n",
    "        fact=fact*j\n",
    "    sum=sum+(1/fact)\n",
    "print(\"THE SUM OF %d TERM SERIES IS %f\"%(nnum,sum))"
   ]
  },
  {
   "cell_type": "code",
   "execution_count": null,
   "metadata": {},
   "outputs": [],
   "source": [
    "print(\"THE VALUE IS %d\"%25)\n",
    "print(\"THE VALUE IS %6d\"%25)  #n BEFORE d SET THE MINIMUM WIDTH OF THE NUMBER\n",
    "print(\"THE VALUE IS %-6dA\"%2344)\n",
    "print(\"THE VALUE IS %06dA\"%243)\n",
    "print(\"THE VALUE IS %+dA\"%243)\n",
    "print(\"THE VALUE IS %3.2f\"%2.4)"
   ]
  }
 ],
 "metadata": {
  "kernelspec": {
   "display_name": "Python 3",
   "language": "python",
   "name": "python3"
  },
  "language_info": {
   "codemirror_mode": {
    "name": "ipython",
    "version": 3
   },
   "file_extension": ".py",
   "mimetype": "text/x-python",
   "name": "python",
   "nbconvert_exporter": "python",
   "pygments_lexer": "ipython3",
   "version": "3.11.1 (tags/v3.11.1:a7a450f, Dec  6 2022, 19:58:39) [MSC v.1934 64 bit (AMD64)]"
  },
  "orig_nbformat": 4,
  "vscode": {
   "interpreter": {
    "hash": "fa8c03ba80d44c0c6168b23de601e19ab58b88b7d801a64347cddd603cbc60e0"
   }
  }
 },
 "nbformat": 4,
 "nbformat_minor": 2
}
